{
 "cells": [
  {
   "cell_type": "code",
   "execution_count": null,
   "id": "109cb060-786e-4d12-82c5-7674bc1ac786",
   "metadata": {},
   "outputs": [],
   "source": [
    "import xgboost\n",
    "import pickle\n",
    "import numpy as np\n",
    "import pandas as pd\n",
    "import plotly.express as px\n",
    "from src."
   ]
  },
  {
   "cell_type": "code",
   "execution_count": null,
   "id": "9c82cc1a-09e5-4ae0-96c5-eb1904e65736",
   "metadata": {},
   "outputs": [],
   "source": [
    "transformed_data = pd.read_csv('../Data/data_pipeline_output_multi_entry_pnl_2022.csv')"
   ]
  },
  {
   "cell_type": "code",
   "execution_count": null,
   "id": "62c34edc-234a-4ca1-befa-4e45805868b0",
   "metadata": {},
   "outputs": [],
   "source": [
    "with open('../Models/entry_model_multi_entry.pkl', 'rb') as file:\n",
    "    entry_model = pickle.load(file)"
   ]
  },
  {
   "cell_type": "code",
   "execution_count": null,
   "id": "787a4109-397f-4027-85ca-1a13d65f8f4a",
   "metadata": {},
   "outputs": [],
   "source": [
    "pred_entry = entry_model.predict(transformed_data[entry_model.feature_names.values])"
   ]
  },
  {
   "cell_type": "code",
   "execution_count": null,
   "id": "035dd37a-4c00-48cb-92ea-d2971477864d",
   "metadata": {},
   "outputs": [],
   "source": [
    "# This table is avaiable to be loaded from DB\n",
    "transformed_data['entry_appears'] = pred_entry"
   ]
  },
  {
   "cell_type": "markdown",
   "id": "2fc393d0-33d7-4807-9434-683e46336340",
   "metadata": {},
   "source": [
    "# User specifies the start and end date\n",
    "\n",
    "e.g. user set timemachine to be on 2022-01-03, and want to see how well it does on 2022-12-31"
   ]
  },
  {
   "cell_type": "code",
   "execution_count": null,
   "id": "2b31c207-da3a-417d-a49c-102d1403b661",
   "metadata": {},
   "outputs": [],
   "source": [
    "\"\"\"\n",
    "User Input\n",
    "\"\"\"\n",
    "sim_start = '2022-01-03'\n",
    "sim_end = '2022-12-31'\n",
    "fund = 10000"
   ]
  },
  {
   "cell_type": "code",
   "execution_count": null,
   "id": "afa99321-48db-4533-a2cd-917be76865a7",
   "metadata": {},
   "outputs": [],
   "source": [
    "result, all_execution_history = run_simulation(\n",
    "    starting_fund=10000,\n",
    "    sim_start='2022-01-01',\n",
    "    sim_end = '2022-12-31',\n",
    "    transformed_data = transformed_data,\n",
    "    refresh_cadence=60\n",
    ")"
   ]
  },
  {
   "cell_type": "code",
   "execution_count": null,
   "id": "6cb8d594-ac36-439c-897e-26b6ed06398d",
   "metadata": {},
   "outputs": [],
   "source": [
    "px.line(result, x=\"Date\", y=['total_asset'])"
   ]
  },
  {
   "cell_type": "markdown",
   "id": "7e50108d-56f9-4fe8-9454-baea49f00121",
   "metadata": {},
   "source": [
    "### 1. Determine the dates where we are refreshing the pair trading profolio"
   ]
  },
  {
   "cell_type": "code",
   "execution_count": null,
   "id": "00268288-b2a4-49eb-8ef6-71c2f125c0a7",
   "metadata": {},
   "outputs": [],
   "source": [
    "refresh_cadence = 60\n",
    "unique_dates = transformed_data.Date[\n",
    "     (transformed_data.Date >= sim_start) &\n",
    "    (transformed_data.Date <= sim_end)\n",
    "].unique()\n",
    "\n",
    "total_date_num = len(unique_dates)"
   ]
  },
  {
   "cell_type": "code",
   "execution_count": null,
   "id": "d83cf4bc-d83b-4c15-bc79-ec15b4aff7f8",
   "metadata": {},
   "outputs": [],
   "source": [
    "idx_refresh_date = [refresh_cadence*i if (i*refresh_cadence)<=total_date_num else -1 for i in range(total_date_num)]\n",
    "idx_refresh_date = np.array(idx_refresh_date)[np.array(idx_refresh_date)>=0]\n",
    "refresh_dates = unique_dates[idx_refresh_date]\n",
    "refresh_dates"
   ]
  },
  {
   "cell_type": "markdown",
   "id": "ed36b3b1-c8d6-42a6-bbd3-eb7ba72d9e54",
   "metadata": {},
   "source": [
    "On the dates above, we will get the pairs and calculate the daily pnls of the next 60 day"
   ]
  },
  {
   "cell_type": "code",
   "execution_count": null,
   "id": "3ea234ca-9733-4422-b506-166b9e901818",
   "metadata": {},
   "outputs": [],
   "source": [
    "# Get the data as of refresh date\n",
    "refresh_date_data = transformed_data[\n",
    "    transformed_data.Date.isin(refresh_dates)\n",
    "]\n",
    "\n",
    "# qualified_pairs = future_data.loc[future_data[future_data.entry_appears==1].groupby([\"Date\"])[\"stock2vec_cos_sim\"].idxmax()]"
   ]
  },
  {
   "cell_type": "code",
   "execution_count": null,
   "id": "e694fbe9-1ad9-4f59-913c-8392d8840536",
   "metadata": {},
   "outputs": [],
   "source": [
    "# Get the qualifying pairs for each date and the abs mean spread/std\n",
    "refresh_date_data_pairs = refresh_date_data[\n",
    "    (refresh_date_data.entry_appears == 1) & \n",
    "    (refresh_date_data.stock2vec_cos_sim>0.95)\n",
    "][\n",
    "    ['Date', 'Ticker_P1', 'Ticker_P2', 'abs_spread_mean_MA','abs_spread_std_MA', 'beta_P1', 'beta_P2']\n",
    "]\n",
    "\n",
    "# refresh_date_data_pairs = refresh_date_data.loc[refresh_date_data[refresh_date_data.entry_appears==1].groupby([\"Date\"])[\"stock2vec_cos_sim\"].idxmax()]"
   ]
  },
  {
   "cell_type": "code",
   "execution_count": null,
   "id": "3da72b56-4f49-4dc9-a4f8-dd01bb0a85ac",
   "metadata": {},
   "outputs": [],
   "source": [
    "refresh_date_data_pairs.head(5)"
   ]
  },
  {
   "cell_type": "markdown",
   "id": "320dc1de-15a1-404f-83ec-9b4ffca4ded0",
   "metadata": {},
   "source": [
    "### 2. Calculate PNLs at each date\n",
    "\n",
    "for each date and pair above, calculate the daily pnl like below:\n",
    "\n",
    "date, pnl, total asset"
   ]
  },
  {
   "cell_type": "code",
   "execution_count": null,
   "id": "de638a35-b39e-49ce-83f2-02266adeb6ef",
   "metadata": {},
   "outputs": [],
   "source": [
    "\"\"\"\n",
    "temp experimental input - will be in loop\n",
    "\"\"\"\n",
    "temp_date = '2022-01-03'"
   ]
  },
  {
   "cell_type": "code",
   "execution_count": null,
   "id": "b06d4da8-cd82-4fbf-9864-2ec5dd83d5fb",
   "metadata": {},
   "outputs": [],
   "source": [
    "refresh_date_rec_pair_tb = refresh_date_data_pairs[refresh_date_data_pairs.Date==temp_date]\n",
    "num_paris_at_refresh_date = refresh_date_rec_pair_tb.shape[0]\n",
    "fund_per_pair = fund/num_paris_at_refresh_date\n",
    "fund_per_pair"
   ]
  },
  {
   "cell_type": "code",
   "execution_count": null,
   "id": "a3cf7610-e755-4251-9479-34bb6fcf3349",
   "metadata": {},
   "outputs": [],
   "source": [
    "# Loop starts here for each pair\n",
    "# for each pair calculate the gains\n",
    "future_daily_pnl_tb = pd.DataFrame()\n",
    "\n",
    "for idx in refresh_date_rec_pair_tb.index:\n",
    "    temp = refresh_date_rec_pair_tb.loc[idx]\n",
    "    \n",
    "    # Get future 60 trade date price data\n",
    "    future_price=transformed_data[\n",
    "        (transformed_data.Ticker_P1 == temp.Ticker_P1) & \n",
    "        (transformed_data.Ticker_P2 == temp.Ticker_P2) &\n",
    "        (transformed_data.Date >= temp.Date)\n",
    "    ]\\\n",
    "    .reset_index(drop=True)\\\n",
    "    .loc[:refresh_cadence, ['Date','Ticker_P1', 'Ticker_P2','Close_P1', 'Close_P2']]\n",
    "\n",
    "    cumu_pnl_pct = [0]\n",
    "    for i in range(1,future_price.shape[0]):\n",
    "        cumu_pnl_pct.append(\n",
    "            trade_class.execute(\n",
    "                vec1 = future_price.Close_P1.values[:i],\n",
    "                vec2 = future_price.Close_P2.values[:i],\n",
    "                dates= future_price.Date.values,\n",
    "                beta_p1=temp.beta_P1,\n",
    "                beta_p2=temp.beta_P2,\n",
    "                base_fund=fund_per_pair\n",
    "            ).final_pl_pct\n",
    "        )\n",
    "    future_price['cumu_pnl_pct'] = cumu_pnl_pct\n",
    "    future_price['total_asset'] = fund_per_pair*(1+future_price['cumu_pnl_pct'])\n",
    "    future_daily_pnl_tb = pd.concat(\n",
    "        [future_daily_pnl_tb, future_price]\n",
    "    )"
   ]
  },
  {
   "cell_type": "code",
   "execution_count": null,
   "id": "af8e6ddf-f7e0-4a7b-957c-c546c1200a97",
   "metadata": {},
   "outputs": [],
   "source": [
    "future_daily_pnl_tb_agg = future_daily_pnl_tb[[\n",
    "    'Date',\n",
    "    'total_asset'\n",
    "]].groupby('Date').sum().reset_index()"
   ]
  },
  {
   "cell_type": "code",
   "execution_count": null,
   "id": "ca7e40c0-5ff4-4094-a58f-0b506ca617c2",
   "metadata": {},
   "outputs": [],
   "source": [
    "future_daily_pnl_tb_agg"
   ]
  },
  {
   "cell_type": "code",
   "execution_count": null,
   "id": "787cc0a6-58f2-48f9-b5e2-45b47595a98a",
   "metadata": {},
   "outputs": [],
   "source": [
    "import plotly.express as px\n",
    "fig = px.line(future_daily_pnl_tb_agg, x=\"Date\", y=['total_asset'])"
   ]
  },
  {
   "cell_type": "code",
   "execution_count": null,
   "id": "49ecceaa-0a9b-464b-9623-1d54cfd266ed",
   "metadata": {},
   "outputs": [],
   "source": [
    "fig"
   ]
  },
  {
   "cell_type": "code",
   "execution_count": null,
   "id": "cc837751-3276-4910-bce1-396c5385661d",
   "metadata": {},
   "outputs": [],
   "source": []
  }
 ],
 "metadata": {
  "kernelspec": {
   "display_name": "Python 3 (ipykernel)",
   "language": "python",
   "name": "python3"
  },
  "language_info": {
   "codemirror_mode": {
    "name": "ipython",
    "version": 3
   },
   "file_extension": ".py",
   "mimetype": "text/x-python",
   "name": "python",
   "nbconvert_exporter": "python",
   "pygments_lexer": "ipython3",
   "version": "3.11.6"
  }
 },
 "nbformat": 4,
 "nbformat_minor": 5
}
