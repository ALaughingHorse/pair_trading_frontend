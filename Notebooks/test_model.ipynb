{
 "cells": [
  {
   "cell_type": "code",
   "execution_count": 7,
   "id": "109cb060-786e-4d12-82c5-7674bc1ac786",
   "metadata": {},
   "outputs": [],
   "source": [
    "import xgboost\n",
    "import pickle\n",
    "import pandas as pd"
   ]
  },
  {
   "cell_type": "code",
   "execution_count": 8,
   "id": "9c82cc1a-09e5-4ae0-96c5-eb1904e65736",
   "metadata": {},
   "outputs": [],
   "source": [
    "transformed_data = pd.read_csv('../Data/transformed_data.csv')\n",
    "\n",
    "with open('../Models/xgb_st_entry.pkl', 'rb') as file:\n",
    "    xgb_model = pickle.load(file)"
   ]
  },
  {
   "cell_type": "code",
   "execution_count": 10,
   "id": "807013f6-b3b6-4b8f-ae04-1edef37f9e4b",
   "metadata": {},
   "outputs": [],
   "source": [
    "latest = transformed_data[transformed_data.Date == transformed_data.Date.max()]"
   ]
  },
  {
   "cell_type": "markdown",
   "id": "e43bb2a1-072a-4c87-b1e5-c3eaca355a57",
   "metadata": {},
   "source": [
    "# Model Prediction"
   ]
  },
  {
   "cell_type": "code",
   "execution_count": 13,
   "id": "9901638a-6472-4276-9eab-70edc778c8d7",
   "metadata": {},
   "outputs": [],
   "source": [
    "X_test = xgb_model.feature_scaler.transform(latest[xgb_model.features_names])"
   ]
  },
  {
   "cell_type": "code",
   "execution_count": 14,
   "id": "f7eaa24c-d978-43cf-a6a8-9b5342f717e3",
   "metadata": {},
   "outputs": [],
   "source": [
    "predictions = xgb_model.predict_proba(X_test)"
   ]
  },
  {
   "cell_type": "code",
   "execution_count": 21,
   "id": "f915a89e-210b-4b59-a5d7-47a70c12bc2a",
   "metadata": {},
   "outputs": [
    {
     "name": "stderr",
     "output_type": "stream",
     "text": [
      "/var/folders/f4/28wskrvx4yz7gqswwx15x1bh0000gn/T/ipykernel_43974/1515865724.py:1: SettingWithCopyWarning: \n",
      "A value is trying to be set on a copy of a slice from a DataFrame.\n",
      "Try using .loc[row_indexer,col_indexer] = value instead\n",
      "\n",
      "See the caveats in the documentation: https://pandas.pydata.org/pandas-docs/stable/user_guide/indexing.html#returning-a-view-versus-a-copy\n",
      "  latest['preds'] = [x[1] for x in predictions]\n"
     ]
    }
   ],
   "source": [
    "latest['preds'] = [x[1] for x in predictions]"
   ]
  },
  {
   "cell_type": "markdown",
   "id": "9ecdbf76-24a5-4e89-9944-bf86e248ced4",
   "metadata": {},
   "source": [
    "# Get top 1"
   ]
  },
  {
   "cell_type": "code",
   "execution_count": 23,
   "id": "f0943948-d1fc-48fe-833c-1412b68a530b",
   "metadata": {},
   "outputs": [
    {
     "data": {
      "text/html": [
       "<div>\n",
       "<style scoped>\n",
       "    .dataframe tbody tr th:only-of-type {\n",
       "        vertical-align: middle;\n",
       "    }\n",
       "\n",
       "    .dataframe tbody tr th {\n",
       "        vertical-align: top;\n",
       "    }\n",
       "\n",
       "    .dataframe thead th {\n",
       "        text-align: right;\n",
       "    }\n",
       "</style>\n",
       "<table border=\"1\" class=\"dataframe\">\n",
       "  <thead>\n",
       "    <tr style=\"text-align: right;\">\n",
       "      <th></th>\n",
       "      <th>Date</th>\n",
       "      <th>Ticker_P1</th>\n",
       "      <th>Close_P1</th>\n",
       "      <th>Ticker_P2</th>\n",
       "      <th>Close_P2</th>\n",
       "      <th>High_P1</th>\n",
       "      <th>High_P2</th>\n",
       "      <th>Low_P1</th>\n",
       "      <th>Low_P2</th>\n",
       "      <th>Volume_P1</th>\n",
       "      <th>...</th>\n",
       "      <th>DIFF_dlr</th>\n",
       "      <th>DIFF_daily_returns</th>\n",
       "      <th>DIFF_50 Days Average</th>\n",
       "      <th>DIFF_200 Days Average</th>\n",
       "      <th>DIFF_abs_spread_mean_l20_500</th>\n",
       "      <th>direction_longterm_entry</th>\n",
       "      <th>direction_longterm_exit</th>\n",
       "      <th>direction_shortterm_entry</th>\n",
       "      <th>direction_shortterm_exit</th>\n",
       "      <th>preds</th>\n",
       "    </tr>\n",
       "  </thead>\n",
       "  <tbody>\n",
       "    <tr>\n",
       "      <th>750043</th>\n",
       "      <td>2019-11-27</td>\n",
       "      <td>MRO</td>\n",
       "      <td>11.209923</td>\n",
       "      <td>ODFL</td>\n",
       "      <td>128.333542</td>\n",
       "      <td>11.93</td>\n",
       "      <td>130.453339</td>\n",
       "      <td>11.63</td>\n",
       "      <td>129.226669</td>\n",
       "      <td>9950700.0</td>\n",
       "      <td>...</td>\n",
       "      <td>-0.36354</td>\n",
       "      <td>-0.003657</td>\n",
       "      <td>-107.531835</td>\n",
       "      <td>-91.141888</td>\n",
       "      <td>30.181352</td>\n",
       "      <td>1</td>\n",
       "      <td>0</td>\n",
       "      <td>1</td>\n",
       "      <td>0</td>\n",
       "      <td>1.0</td>\n",
       "    </tr>\n",
       "  </tbody>\n",
       "</table>\n",
       "<p>1 rows × 105 columns</p>\n",
       "</div>"
      ],
      "text/plain": [
       "              Date Ticker_P1   Close_P1 Ticker_P2    Close_P2  High_P1  \\\n",
       "750043  2019-11-27       MRO  11.209923      ODFL  128.333542    11.93   \n",
       "\n",
       "           High_P2  Low_P1      Low_P2  Volume_P1  ...  DIFF_dlr  \\\n",
       "750043  130.453339   11.63  129.226669  9950700.0  ...  -0.36354   \n",
       "\n",
       "        DIFF_daily_returns  DIFF_50 Days Average  DIFF_200 Days Average  \\\n",
       "750043           -0.003657           -107.531835             -91.141888   \n",
       "\n",
       "        DIFF_abs_spread_mean_l20_500  direction_longterm_entry  \\\n",
       "750043                     30.181352                         1   \n",
       "\n",
       "        direction_longterm_exit  direction_shortterm_entry  \\\n",
       "750043                        0                          1   \n",
       "\n",
       "        direction_shortterm_exit  preds  \n",
       "750043                         0    1.0  \n",
       "\n",
       "[1 rows x 105 columns]"
      ]
     },
     "execution_count": 23,
     "metadata": {},
     "output_type": "execute_result"
    }
   ],
   "source": [
    "latest.sort_values('preds', ascending=False).head(1)"
   ]
  },
  {
   "cell_type": "code",
   "execution_count": null,
   "id": "24247b11-1f51-4dc5-8790-4d3374cdc678",
   "metadata": {},
   "outputs": [],
   "source": []
  }
 ],
 "metadata": {
  "kernelspec": {
   "display_name": "Python 3 (ipykernel)",
   "language": "python",
   "name": "python3"
  },
  "language_info": {
   "codemirror_mode": {
    "name": "ipython",
    "version": 3
   },
   "file_extension": ".py",
   "mimetype": "text/x-python",
   "name": "python",
   "nbconvert_exporter": "python",
   "pygments_lexer": "ipython3",
   "version": "3.11.6"
  }
 },
 "nbformat": 4,
 "nbformat_minor": 5
}
